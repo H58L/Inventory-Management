{
  "nbformat": 4,
  "nbformat_minor": 0,
  "metadata": {
    "colab": {
      "provenance": [],
      "authorship_tag": "ABX9TyOOmokuAEKcV3nRwNt8G8yT",
      "include_colab_link": true
    },
    "kernelspec": {
      "name": "python3",
      "display_name": "Python 3"
    },
    "language_info": {
      "name": "python"
    }
  },
  "cells": [
    {
      "cell_type": "markdown",
      "metadata": {
        "id": "view-in-github",
        "colab_type": "text"
      },
      "source": [
        "<a href=\"https://colab.research.google.com/github/H58L/Inventory-Management/blob/lisa/Main.ipynb\" target=\"_parent\"><img src=\"https://colab.research.google.com/assets/colab-badge.svg\" alt=\"Open In Colab\"/></a>"
      ]
    },
    {
      "cell_type": "code",
      "execution_count": null,
      "metadata": {
        "id": "Ow5QemDwWrWl"
      },
      "outputs": [],
      "source": [
        "#importing libraries\n",
        "!pip install pandas numpy seaborn matplotlib klib dtale scikit-learn joblib\n",
        "import pandas as pd#data\n",
        "import numpy as np#arrays\n",
        "import matplotlib.pyplot as plt#data visulaization\n",
        "import seaborn as sns#data visulaization"
      ]
    },
    {
      "cell_type": "code",
      "source": [
        "'''UPLOADING AND PRINTING DATASET'''\n",
        "#item_outlet_sales is target label, ie sales of each bigmart outlet\n",
        "df_train=pd.read_csv('Train.csv')#upload in drive first\n",
        "df_test=pd.read_csv('Test.csv')\n",
        "print(df_train)\n",
        "print(\"Test\")\n",
        "print(df_test)\n",
        "\n",
        "#data maniupulation to make it organise it and make it easy to read\n",
        "#data belending: big data from multiple sources are mergerd into a single file\n",
        "\n"
      ],
      "metadata": {
        "id": "RQzgWRtHl3Wd"
      },
      "execution_count": null,
      "outputs": []
    },
    {
      "cell_type": "code",
      "source": [
        "'''# 1.MISSING VALUES HANDLING'''\n",
        "\n",
        "#checkiing for missing values:(Numeric(using mean) and catagorical(using mode) missing data need to be handled differently)\n",
        "#Item_weight to be filled with mean\n",
        "#Outlet_size to be filled with mode\n",
        "df_train.isnull().sum()\n",
        "df_test.isnull().sum()\n",
        "\n",
        "\n",
        "df_train.describe()#gives statistcal analysis of numerical columns only\n",
        "\n",
        "#filling Item_weight with mean\n",
        "df_train['Item_Weight'].fillna(df_train['Item_Weight'].mean(),inplace=True)\n",
        "df_test['Item_Weight'].fillna(df_test['Item_Weight'].mean(),inplace=True)\n",
        "\n",
        "#filling Outlet_size using mode\n",
        "print(df_train['Outlet_Size'].value_counts())#displays count of each category\n",
        "df_train['Outlet_Size'].fillna(df_train['Outlet_Size'].mode()[0], inplace=True)\n",
        "df_test['Outlet_Size'].fillna(df_test['Outlet_Size'].mode()[0], inplace=True)\n"
      ],
      "metadata": {
        "colab": {
          "base_uri": "https://localhost:8080/"
        },
        "id": "8OSoBj98t7CD",
        "outputId": "17c054bd-66ed-4007-c276-6731e09270fc"
      },
      "execution_count": 31,
      "outputs": [
        {
          "output_type": "stream",
          "name": "stdout",
          "text": [
            "Medium    5203\n",
            "Small     2388\n",
            "High       932\n",
            "Name: Outlet_Size, dtype: int64\n",
            "Item_Identifier              0\n",
            "Item_Weight                  0\n",
            "Item_Fat_Content             0\n",
            "Item_Visibility              0\n",
            "Item_Type                    0\n",
            "Item_MRP                     0\n",
            "Outlet_Identifier            0\n",
            "Outlet_Establishment_Year    0\n",
            "Outlet_Size                  0\n",
            "Outlet_Location_Type         0\n",
            "Outlet_Type                  0\n",
            "dtype: int64\n"
          ]
        }
      ]
    }
  ]
}