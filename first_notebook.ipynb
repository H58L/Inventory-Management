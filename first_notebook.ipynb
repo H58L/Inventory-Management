{
  "nbformat": 4,
  "nbformat_minor": 0,
  "metadata": {
    "colab": {
      "provenance": [],
      "toc_visible": true,
      "include_colab_link": true
    },
    "kernelspec": {
      "name": "python3",
      "display_name": "Python 3"
    },
    "language_info": {
      "name": "python"
    }
  },
  "cells": [
    {
      "cell_type": "markdown",
      "metadata": {
        "id": "view-in-github",
        "colab_type": "text"
      },
      "source": [

      ]
    },
    {
      "cell_type": "code",
      "execution_count": null,
      "metadata": {
        "id": "AypI-1h3ggP2"
      },
      "outputs": [],
      "source": [
        "print(\"I love my life!!!\")\n",
        "print(\"This is my story\")\n",
        "print(\"Kau is mau\")\n",
        "print(\"This is kau\")\n",

      ]
    }
  ]
}